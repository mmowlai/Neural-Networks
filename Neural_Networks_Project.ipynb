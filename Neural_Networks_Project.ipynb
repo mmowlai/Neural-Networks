{
 "cells": [
  {
   "cell_type": "markdown",
   "metadata": {
    "id": "sdnnRxTNdyW1"
   },
   "source": [
    "# Neural Networks for Data Science Applications\n",
    "## Implementing a custom activation function"
   ]
  },
  {
   "cell_type": "code",
   "execution_count": null,
   "metadata": {
    "id": "PEr8qV6-nMuL"
   },
   "outputs": [],
   "source": [
    "import tensorflow as tf\n",
    "import numpy as np"
   ]
  },
  {
   "cell_type": "markdown",
   "metadata": {
    "id": "wAEgygyPfO7b"
   },
   "source": [
    "### Introduction\n",
    "\n",
    "The **exponential linear unit** (ELU) is an activation function defined as [1]:\n",
    "\n",
    "$$\n",
    "\\phi(x) =\n",
    "\\Biggl\\{ \n",
    "\\begin{align} \n",
    "x & \\;\\; \\text{ if } x \\ge 0 \\\\\n",
    "\\alpha \\left(\\exp\\left(x\\right)- 1\\right) & \\;\\; \\text{ otherwise } \n",
    "\\end{align}\n",
    "\\Bigr.\n",
    "\\,,\n",
    "$$\n",
    "\n",
    "where $\\alpha$ is a hyper-parameter. The function is implemented in `tf.keras.layers.ELU` (see the [documentation](https://www.tensorflow.org/api_docs/python/tf/keras/layers/ELU)).\n",
    "\n",
    "The **parametric ELU** (PELU) extends the ELU activation function as [2]:\n",
    "\n",
    "$$\n",
    "\\phi(x) =\n",
    "\\Biggl\\{ \n",
    "\\begin{align} \n",
    "\\frac{\\alpha}{\\beta}x & \\;\\; \\text{ if } x \\ge 0 \\\\\n",
    "\\alpha \\left(\\exp\\Bigl(\\frac{x}{\\beta}\\Bigr)- 1\\right) & \\;\\; \\text{ otherwise } \n",
    "\\end{align}\n",
    "\\Bigr.\n",
    "\\,,\n",
    "$$\n",
    "\n",
    "where the major difference is that $\\alpha,\\beta > 0$ are *trainable* parameters, i.e., a pair of $(\\alpha, \\beta)$ values is trained for each unit in the network."
   ]
  },
  {
   "cell_type": "markdown",
   "metadata": {
    "id": "5u4aF6Z4maHd"
   },
   "source": [
    "### implementing the PELU\n",
    "\n",
    "In TensorFlow, it is possible to implement new layers by subclassing `tf.keras.layers.Layer`:\n",
    "\n",
    "+ [Making new Layers and Models via subclassing](https://www.tensorflow.org/guide/keras/custom_layers_and_models)\n",
    "+ [Custom layers](https://www.tensorflow.org/tutorials/customization/custom_layers)\n",
    "+ [tf.keras.layers.Layer (documentation)](https://www.tensorflow.org/api_docs/python/tf/keras/layers/Layer)\n"
   ]
  },
  {
   "cell_type": "code",
   "execution_count": null,
   "metadata": {
    "id": "DfCpFg2xdug_"
   },
   "outputs": [],
   "source": [
    "class PELU(tf.keras.layers.Layer):\n",
    "    def __init__(self, units=32):\n",
    "        super(PELU, self).__init__()\n",
    "        self.units = units\n",
    "\n",
    "    def build(self, input_shape):\n",
    "      self.alpha = self.add_weight(\n",
    "          name = 'alpha',\n",
    "          shape=(input_shape[-1], ), initializer=\"ones\", trainable=True)\n",
    "      \n",
    "      self.beta = self.add_weight(\n",
    "          name= 'beta',\n",
    "          shape=(input_shape[-1],), initializer=\"ones\", trainable=True)\n",
    "\n",
    "    def call(self, inputs):\n",
    "      alpha = tf.clip_by_value(self.alpha, clip_value_min=0.1, clip_value_max=np.inf)\n",
    "      beta = tf.clip_by_value(self.beta, clip_value_min=0.1, clip_value_max=np.inf)\n",
    "      res = tf.where(inputs >= 0, alpha/beta * inputs, alpha * (tf.exp(inputs / beta) - 1))\n",
    "      return res"
   ]
  },
  {
   "cell_type": "markdown",
   "metadata": {
    "id": "-QY0TfCxo9yd"
   },
   "source": [
    "### some preliminary tests\n"
   ]
  },
  {
   "cell_type": "code",
   "execution_count": null,
   "metadata": {
    "id": "DFNFXarBe8DV"
   },
   "outputs": [],
   "source": [
    "pelu = PELU(units=1)"
   ]
  },
  {
   "cell_type": "markdown",
   "metadata": {
    "id": "RWY76mEepSgj"
   },
   "source": [
    " plot the function using the skeleton code below."
   ]
  },
  {
   "cell_type": "code",
   "execution_count": null,
   "metadata": {
    "colab": {
     "base_uri": "https://localhost:8080/",
     "height": 282
    },
    "id": "jdK0CyscfDtC",
    "outputId": "9940def0-19e0-4a52-f885-81fcd8521eca"
   },
   "outputs": [
    {
     "data": {
      "text/plain": [
       "[<matplotlib.lines.Line2D at 0x7f9f604350b8>]"
      ]
     },
     "execution_count": 4,
     "metadata": {
      "tags": []
     },
     "output_type": "execute_result"
    },
    {
     "data": {
      "image/png": "[encoded data removed]",
      "text/plain": [
       "<Figure size 432x288 with 1 Axes>"
      ]
     },
     "metadata": {
      "needs_background": "light",
      "tags": []
     },
     "output_type": "display_data"
    }
   ],
   "source": [
    "import matplotlib.pyplot as plt\n",
    "x_range = tf.linspace(-5., 5., 200) # An equispaced grid of 200 points in [-5, +5]\n",
    "y_range = pelu(x_range) # TODO: Your code here\n",
    "\n",
    "plt.plot(x_range.numpy(), y_range.numpy(), 'r', linewidth= 3)"
   ]
  },
  {
   "cell_type": "markdown",
   "metadata": {
    "id": "LyGIlR_aqayc"
   },
   "source": [
    "The derivative of a PELU function with respect to the $\\alpha$ parameter is given by [2]:\n",
    "\n",
    "$$\n",
    "\\frac{d\\phi(x)}{d\\alpha} =\n",
    "\\Biggl\\{ \n",
    "\\begin{align} \n",
    "\\frac{x}{\\beta} & \\;\\; \\text{ if } x \\ge 0 \\\\\n",
    " \\left(\\exp\\Bigl(\\frac{x}{\\beta}\\Bigr)- 1\\right) & \\;\\; \\text{ otherwise } \n",
    "\\end{align}\n",
    "\\Bigr.\n",
    "\\,,\n",
    "$$"
   ]
  },
  {
   "cell_type": "code",
   "execution_count": null,
   "metadata": {
    "id": "7nlRXiGwCzK7"
   },
   "outputs": [],
   "source": [
    "# Inorder to check the correctness, we first compute the derivative using automatic differentiation and then compare it with the manual derivative:\n",
    "\n",
    "# Automatic\n",
    "with tf.GradientTape(persistent=True) as t:\n",
    "  y = pelu(x_range)\n",
    "\n",
    "Grad = t.gradient(y, pelu.alpha)\n",
    "\n",
    "# Manual \n",
    "def pelu_prime(inputs):\n",
    "  res = tf.where(inputs >= 0, inputs / pelu.beta, (tf.exp(inputs / pelu.beta) - 1))\n",
    "  return res\n",
    "\n",
    "ManualPrime = pelu_prime(x_range)"
   ]
  },
  {
   "cell_type": "code",
   "execution_count": null,
   "metadata": {
    "colab": {
     "base_uri": "https://localhost:8080/"
    },
    "id": "HVYPSGT5CzFw",
    "outputId": "7c63ba0b-3eb2-4d5a-88be-fccb0ea628bd"
   },
   "outputs": [
    {
     "data": {
      "text/plain": [
       "<tf.Tensor: shape=(200,), dtype=float32, numpy=\n",
       "array([-0.99326205, -0.9929148 , -0.99254966, -0.99216574, -0.991762  ,\n",
       "       -0.9913374 , -0.990891  , -0.9904216 , -0.98992795, -0.98940885,\n",
       "       -0.98886305, -0.9882891 , -0.98768556, -0.98705095, -0.9863836 ,\n",
       "       -0.9856819 , -0.98494405, -0.9841681 , -0.9833522 , -0.98249424,\n",
       "       -0.9815921 , -0.98064345, -0.9796459 , -0.9785969 , -0.97749394,\n",
       "       -0.9763341 , -0.97511446, -0.97383195, -0.9724834 , -0.9710653 ,\n",
       "       -0.96957415, -0.96800613, -0.9663573 , -0.9646236 , -0.9628004 ,\n",
       "       -0.9608833 , -0.95886743, -0.95674765, -0.9545186 , -0.9521747 ,\n",
       "       -0.94971   , -0.94711834, -0.94439304, -0.94152737, -0.93851393,\n",
       "       -0.93534523, -0.9320132 , -0.92850953, -0.92482525, -0.92095107,\n",
       "       -0.91687727, -0.91259354, -0.90808904, -0.9033524 , -0.8983716 ,\n",
       "       -0.8931341 , -0.88762677, -0.8818356 , -0.87574595, -0.8693425 ,\n",
       "       -0.862609  , -0.85552853, -0.84808314, -0.84025407, -0.83202153,\n",
       "       -0.82336473, -0.8142618 , -0.80468976, -0.7946244 , -0.7840403 ,\n",
       "       -0.7729107 , -0.76120764, -0.74890137, -0.73596096, -0.7223537 ,\n",
       "       -0.708045  , -0.692999  , -0.67717767, -0.66054094, -0.64304686,\n",
       "       -0.62465113, -0.6053075 , -0.5849669 , -0.5635781 , -0.5410869 ,\n",
       "       -0.5174368 , -0.49256772, -0.4664169 , -0.4389187 , -0.41000307,\n",
       "       -0.3795976 , -0.34762484, -0.31400472, -0.27865154, -0.24147683,\n",
       "       -0.20238602, -0.16128099, -0.11805713, -0.07260621, -0.02481246,\n",
       "        0.0251255 ,  0.07537699,  0.125628  ,  0.17587948,  0.22613049,\n",
       "        0.27638197,  0.32663298,  0.37688446,  0.42713594,  0.47738695,\n",
       "        0.52763844,  0.57788944,  0.6281409 ,  0.67839193,  0.7286434 ,\n",
       "        0.7788944 ,  0.8291459 ,  0.8793969 ,  0.9296484 ,  0.9798994 ,\n",
       "        1.0301509 ,  1.0804019 ,  1.1306534 ,  1.1809044 ,  1.2311559 ,\n",
       "        1.2814069 ,  1.3316584 ,  1.3819094 ,  1.4321609 ,  1.4824123 ,\n",
       "        1.5326633 ,  1.5829148 ,  1.6331658 ,  1.6834173 ,  1.7336683 ,\n",
       "        1.7839198 ,  1.8341708 ,  1.8844223 ,  1.9346733 ,  1.9849248 ,\n",
       "        2.0351758 ,  2.0854273 ,  2.1356783 ,  2.1859298 ,  2.2361808 ,\n",
       "        2.2864323 ,  2.3366833 ,  2.3869348 ,  2.4371858 ,  2.4874372 ,\n",
       "        2.5376887 ,  2.5879397 ,  2.6381912 ,  2.6884422 ,  2.7386937 ,\n",
       "        2.7889447 ,  2.8391962 ,  2.8894472 ,  2.9396987 ,  2.9899497 ,\n",
       "        3.0402012 ,  3.0904522 ,  3.1407032 ,  3.1909552 ,  3.2412062 ,\n",
       "        3.2914572 ,  3.3417082 ,  3.3919601 ,  3.4422112 ,  3.4924622 ,\n",
       "        3.5427132 ,  3.5929651 ,  3.6432161 ,  3.6934671 ,  3.743719  ,\n",
       "        3.79397   ,  3.844221  ,  3.8944721 ,  3.944724  ,  3.994975  ,\n",
       "        4.045226  ,  4.095477  ,  4.145729  ,  4.19598   ,  4.246231  ,\n",
       "        4.296482  ,  4.346734  ,  4.396985  ,  4.447236  ,  4.497487  ,\n",
       "        4.547739  ,  4.59799   ,  4.648241  ,  4.698493  ,  4.748744  ,\n",
       "        4.798995  ,  4.849246  ,  4.899498  ,  4.949749  ,  5.        ],\n",
       "      dtype=float32)>"
      ]
     },
     "execution_count": 6,
     "metadata": {
      "tags": []
     },
     "output_type": "execute_result"
    }
   ],
   "source": [
    "Grad"
   ]
  },
  {
   "cell_type": "code",
   "execution_count": null,
   "metadata": {
    "colab": {
     "base_uri": "https://localhost:8080/"
    },
    "id": "SN5zIoPBCzDM",
    "outputId": "a739f334-d010-49db-fd60-47c7b012f4e4"
   },
   "outputs": [
    {
     "data": {
      "text/plain": [
       "<tf.Tensor: shape=(200,), dtype=float32, numpy=\n",
       "array([-0.99326205, -0.9929148 , -0.99254966, -0.99216574, -0.991762  ,\n",
       "       -0.9913374 , -0.990891  , -0.9904216 , -0.98992795, -0.98940885,\n",
       "       -0.98886305, -0.9882891 , -0.98768556, -0.98705095, -0.9863836 ,\n",
       "       -0.9856819 , -0.98494405, -0.9841681 , -0.9833522 , -0.98249424,\n",
       "       -0.9815921 , -0.98064345, -0.9796459 , -0.9785969 , -0.97749394,\n",
       "       -0.9763341 , -0.97511446, -0.97383195, -0.9724834 , -0.9710653 ,\n",
       "       -0.96957415, -0.96800613, -0.9663573 , -0.9646236 , -0.9628004 ,\n",
       "       -0.9608833 , -0.95886743, -0.95674765, -0.9545186 , -0.9521747 ,\n",
       "       -0.94971   , -0.94711834, -0.94439304, -0.94152737, -0.93851393,\n",
       "       -0.93534523, -0.9320132 , -0.92850953, -0.92482525, -0.92095107,\n",
       "       -0.91687727, -0.91259354, -0.90808904, -0.9033524 , -0.8983716 ,\n",
       "       -0.8931341 , -0.88762677, -0.8818356 , -0.87574595, -0.8693425 ,\n",
       "       -0.862609  , -0.85552853, -0.84808314, -0.84025407, -0.83202153,\n",
       "       -0.82336473, -0.8142618 , -0.80468976, -0.7946244 , -0.7840403 ,\n",
       "       -0.7729107 , -0.76120764, -0.74890137, -0.73596096, -0.7223537 ,\n",
       "       -0.708045  , -0.692999  , -0.67717767, -0.66054094, -0.64304686,\n",
       "       -0.62465113, -0.6053075 , -0.5849669 , -0.5635781 , -0.5410869 ,\n",
       "       -0.5174368 , -0.49256772, -0.4664169 , -0.4389187 , -0.41000307,\n",
       "       -0.3795976 , -0.34762484, -0.31400472, -0.27865154, -0.24147683,\n",
       "       -0.20238602, -0.16128099, -0.11805713, -0.07260621, -0.02481246,\n",
       "        0.0251255 ,  0.07537699,  0.125628  ,  0.17587948,  0.22613049,\n",
       "        0.27638197,  0.32663298,  0.37688446,  0.42713594,  0.47738695,\n",
       "        0.52763844,  0.57788944,  0.6281409 ,  0.67839193,  0.7286434 ,\n",
       "        0.7788944 ,  0.8291459 ,  0.8793969 ,  0.9296484 ,  0.9798994 ,\n",
       "        1.0301509 ,  1.0804019 ,  1.1306534 ,  1.1809044 ,  1.2311559 ,\n",
       "        1.2814069 ,  1.3316584 ,  1.3819094 ,  1.4321609 ,  1.4824123 ,\n",
       "        1.5326633 ,  1.5829148 ,  1.6331658 ,  1.6834173 ,  1.7336683 ,\n",
       "        1.7839198 ,  1.8341708 ,  1.8844223 ,  1.9346733 ,  1.9849248 ,\n",
       "        2.0351758 ,  2.0854273 ,  2.1356783 ,  2.1859298 ,  2.2361808 ,\n",
       "        2.2864323 ,  2.3366833 ,  2.3869348 ,  2.4371858 ,  2.4874372 ,\n",
       "        2.5376887 ,  2.5879397 ,  2.6381912 ,  2.6884422 ,  2.7386937 ,\n",
       "        2.7889447 ,  2.8391962 ,  2.8894472 ,  2.9396987 ,  2.9899497 ,\n",
       "        3.0402012 ,  3.0904522 ,  3.1407032 ,  3.1909552 ,  3.2412062 ,\n",
       "        3.2914572 ,  3.3417082 ,  3.3919601 ,  3.4422112 ,  3.4924622 ,\n",
       "        3.5427132 ,  3.5929651 ,  3.6432161 ,  3.6934671 ,  3.743719  ,\n",
       "        3.79397   ,  3.844221  ,  3.8944721 ,  3.944724  ,  3.994975  ,\n",
       "        4.045226  ,  4.095477  ,  4.145729  ,  4.19598   ,  4.246231  ,\n",
       "        4.296482  ,  4.346734  ,  4.396985  ,  4.447236  ,  4.497487  ,\n",
       "        4.547739  ,  4.59799   ,  4.648241  ,  4.698493  ,  4.748744  ,\n",
       "        4.798995  ,  4.849246  ,  4.899498  ,  4.949749  ,  5.        ],\n",
       "      dtype=float32)>"
      ]
     },
     "execution_count": 7,
     "metadata": {
      "tags": []
     },
     "output_type": "execute_result"
    }
   ],
   "source": [
    "ManualPrime"
   ]
  },
  {
   "cell_type": "code",
   "execution_count": null,
   "metadata": {
    "colab": {
     "base_uri": "https://localhost:8080/"
    },
    "id": "XCawOuNXC7lL",
    "outputId": "38ef86ae-3872-49fe-b820-22f669b7c9e4"
   },
   "outputs": [
    {
     "name": "stdout",
     "output_type": "stream",
     "text": [
      "The Automatic and Manual differentiation are elementwise similar up to (1e-4) precision :  True\n"
     ]
    }
   ],
   "source": [
    "# Now we check if they're giving the same value\n",
    "print('The Automatic and Manual differentiation are elementwise similar up to (1e-4) precision : ',tf.reduce_all(tf.abs(Grad - ManualPrime ) < 1e-4).numpy())"
   ]
  },
  {
   "cell_type": "code",
   "execution_count": null,
   "metadata": {
    "colab": {
     "base_uri": "https://localhost:8080/"
    },
    "id": "C5cevomyC7gr",
    "outputId": "d663ebdf-c113-46fe-a15e-0ed2f875b3ff"
   },
   "outputs": [
    {
     "data": {
      "text/plain": [
       "<tf.Tensor: shape=(), dtype=bool, numpy=True>"
      ]
     },
     "execution_count": 9,
     "metadata": {
      "tags": []
     },
     "output_type": "execute_result"
    }
   ],
   "source": [
    "tf.reduce_all(tf.abs(Grad - ManualPrime ) < 1e-4)"
   ]
  },
  {
   "cell_type": "markdown",
   "metadata": {
    "id": "A_gDSmUoJbQH"
   },
   "source": [
    "Try the same for the $\\beta$ parameter "
   ]
  },
  {
   "cell_type": "code",
   "execution_count": null,
   "metadata": {
    "id": "c6yIduUIJEko"
   },
   "outputs": [],
   "source": [
    "# Automatic\n",
    "with tf.GradientTape(persistent=True) as t:\n",
    "  y = pelu(x_range)\n",
    "\n",
    "GradBeta = t.gradient(y, pelu.beta)\n",
    "\n",
    "# Manual \n",
    "def pelu_primeBeta(inputs):\n",
    "  res = tf.where(inputs >= 0, ((- pelu.alpha) * inputs) / (pelu.beta)**2, ((- pelu.alpha)* inputs * tf.exp(inputs / pelu.beta)) / (pelu.beta)**2  )\n",
    "  return res\n",
    "\n",
    "ManualPrimeBeta = pelu_primeBeta(x_range)"
   ]
  },
  {
   "cell_type": "code",
   "execution_count": null,
   "metadata": {
    "colab": {
     "base_uri": "https://localhost:8080/"
    },
    "id": "oW_XGHUSMlkb",
    "outputId": "19546d92-b85e-430b-b037-238af71f4b5d"
   },
   "outputs": [
    {
     "name": "stdout",
     "output_type": "stream",
     "text": [
      "The Automatic and Manual differentiation RESPECT TO BETA are elementwise similar up to (1e-4) precision :  True\n"
     ]
    }
   ],
   "source": [
    "# Now we check if they're giving the same value\n",
    "print('The Automatic and Manual differentiation RESPECT TO BETA are elementwise similar up to (1e-4) precision : ',tf.reduce_all(tf.abs(Grad - ManualPrime ) < 1e-4).numpy())"
   ]
  },
  {
   "cell_type": "code",
   "execution_count": null,
   "metadata": {
    "colab": {
     "base_uri": "https://localhost:8080/"
    },
    "id": "_ZEpqKvcJEbr",
    "outputId": "10c88184-4f57-4a54-fad1-8d719d699ce8"
   },
   "outputs": [
    {
     "data": {
      "text/plain": [
       "<tf.Tensor: shape=(), dtype=bool, numpy=True>"
      ]
     },
     "execution_count": 12,
     "metadata": {
      "tags": []
     },
     "output_type": "execute_result"
    }
   ],
   "source": [
    "tf.reduce_all(tf.abs(GradBeta - ManualPrimeBeta ) < 1e-4)"
   ]
  },
  {
   "cell_type": "markdown",
   "metadata": {
    "id": "7yjnVl6Ysm7F"
   },
   "source": [
    "### Exercise 3: PELU in practice\n",
    "\n",
    "Consider a simple model built with the PELU activation function, as below."
   ]
  },
  {
   "cell_type": "code",
   "execution_count": null,
   "metadata": {
    "colab": {
     "base_uri": "https://localhost:8080/"
    },
    "id": "HiWO0AwwDFYl",
    "outputId": "750296ac-ec9a-47ee-c431-fce8f8bded48"
   },
   "outputs": [
    {
     "name": "stdout",
     "output_type": "stream",
     "text": [
      "Downloading data from https://storage.googleapis.com/tensorflow/tf-keras-datasets/mnist.npz\n",
      "11493376/11490434 [==============================] - 0s 0us/step\n"
     ]
    }
   ],
   "source": [
    "# For this part, I used the MNIST datasets\n",
    "(x_train, y_train), (x_test, y_test) = tf.keras.datasets.mnist.load_data()\n",
    "\n",
    "# Normalizing the data\n",
    "x_train = tf.keras.utils.normalize(x_train, axis=1)\n",
    "x_test = tf.keras.utils.normalize(x_test, axis=1)"
   ]
  },
  {
   "cell_type": "code",
   "execution_count": null,
   "metadata": {
    "id": "HF5S67DDs7xr"
   },
   "outputs": [],
   "source": [
    "# Model with PELU layer\n",
    "modelPelu = tf.keras.Sequential(layers=[\n",
    "      tf.keras.layers.Flatten(),\n",
    "      tf.keras.layers.Dense(50, name='1st_layer'),\n",
    "      PELU(50),\n",
    "      tf.keras.layers.Dense(10, name='output_layer',activation='softmax')\n",
    "])"
   ]
  },
  {
   "cell_type": "markdown",
   "metadata": {
    "id": "BvVbeTDwtdbu"
   },
   "source": [
    "Load any classification dataset, and train the model above (using either a custom training loop or `model.fit(...)`). Additionally, compare with a standard ReLU activation."
   ]
  },
  {
   "cell_type": "code",
   "execution_count": null,
   "metadata": {
    "colab": {
     "base_uri": "https://localhost:8080/"
    },
    "id": "dpHI1HfbzAQF",
    "outputId": "a6e6cd6f-56f5-477e-84f5-3029f8d91f5c"
   },
   "outputs": [
    {
     "name": "stdout",
     "output_type": "stream",
     "text": [
      "Epoch 1/100\n",
      "1875/1875 [==============================] - 4s 2ms/step - loss: 0.3643 - accuracy: 0.8978\n",
      "Epoch 2/100\n",
      "1875/1875 [==============================] - 4s 2ms/step - loss: 0.1858 - accuracy: 0.9451\n",
      "Epoch 3/100\n",
      "1875/1875 [==============================] - 4s 2ms/step - loss: 0.1339 - accuracy: 0.9597\n",
      "Epoch 4/100\n",
      "1875/1875 [==============================] - 4s 2ms/step - loss: 0.1047 - accuracy: 0.9678\n",
      "Epoch 5/100\n",
      "1875/1875 [==============================] - 4s 2ms/step - loss: 0.0841 - accuracy: 0.9741\n",
      "Epoch 6/100\n",
      "1875/1875 [==============================] - 4s 2ms/step - loss: 0.0710 - accuracy: 0.9775\n",
      "Epoch 7/100\n",
      "1875/1875 [==============================] - 4s 2ms/step - loss: 0.0586 - accuracy: 0.9815\n",
      "Epoch 8/100\n",
      "1875/1875 [==============================] - 4s 2ms/step - loss: 0.0500 - accuracy: 0.9839\n",
      "Epoch 9/100\n",
      "1875/1875 [==============================] - 4s 2ms/step - loss: 0.0432 - accuracy: 0.9862\n",
      "Epoch 10/100\n",
      "1875/1875 [==============================] - 4s 2ms/step - loss: 0.0367 - accuracy: 0.9878\n",
      "Epoch 11/100\n",
      "1875/1875 [==============================] - 4s 2ms/step - loss: 0.0311 - accuracy: 0.9894\n",
      "Epoch 12/100\n",
      "1875/1875 [==============================] - 4s 2ms/step - loss: 0.0279 - accuracy: 0.9907\n",
      "Epoch 13/100\n",
      "1875/1875 [==============================] - 4s 2ms/step - loss: 0.0240 - accuracy: 0.9919\n",
      "Epoch 14/100\n",
      "1875/1875 [==============================] - 4s 2ms/step - loss: 0.0216 - accuracy: 0.9927\n",
      "Epoch 15/100\n",
      "1875/1875 [==============================] - 4s 2ms/step - loss: 0.0189 - accuracy: 0.9933\n",
      "Epoch 16/100\n",
      "1875/1875 [==============================] - 4s 2ms/step - loss: 0.0169 - accuracy: 0.9942\n",
      "Epoch 17/100\n",
      "1875/1875 [==============================] - 4s 2ms/step - loss: 0.0156 - accuracy: 0.9947\n",
      "Epoch 18/100\n",
      "1875/1875 [==============================] - 4s 2ms/step - loss: 0.0142 - accuracy: 0.9951\n",
      "Epoch 19/100\n",
      "1875/1875 [==============================] - 4s 2ms/step - loss: 0.0133 - accuracy: 0.9955\n",
      "Epoch 20/100\n",
      "1875/1875 [==============================] - 4s 2ms/step - loss: 0.0127 - accuracy: 0.9953\n",
      "Epoch 21/100\n",
      "1875/1875 [==============================] - 4s 2ms/step - loss: 0.0112 - accuracy: 0.9959\n",
      "Epoch 22/100\n",
      "1875/1875 [==============================] - 4s 2ms/step - loss: 0.0105 - accuracy: 0.9962\n",
      "Epoch 23/100\n",
      "1875/1875 [==============================] - 4s 2ms/step - loss: 0.0117 - accuracy: 0.9961\n",
      "Epoch 24/100\n",
      "1875/1875 [==============================] - 4s 2ms/step - loss: 0.0088 - accuracy: 0.9969\n",
      "Epoch 25/100\n",
      "1875/1875 [==============================] - 4s 2ms/step - loss: 0.0092 - accuracy: 0.9966\n",
      "Epoch 26/100\n",
      "1875/1875 [==============================] - 4s 2ms/step - loss: 0.0096 - accuracy: 0.9965\n",
      "Epoch 27/100\n",
      "1875/1875 [==============================] - 4s 2ms/step - loss: 0.0089 - accuracy: 0.9970\n",
      "Epoch 28/100\n",
      "1875/1875 [==============================] - 4s 2ms/step - loss: 0.0074 - accuracy: 0.9977\n",
      "Epoch 29/100\n",
      "1875/1875 [==============================] - 4s 2ms/step - loss: 0.0081 - accuracy: 0.9972\n",
      "Epoch 30/100\n",
      "1875/1875 [==============================] - 4s 2ms/step - loss: 0.0077 - accuracy: 0.9973\n",
      "Epoch 31/100\n",
      "1875/1875 [==============================] - 4s 2ms/step - loss: 0.0078 - accuracy: 0.9972\n",
      "Epoch 32/100\n",
      "1875/1875 [==============================] - 4s 2ms/step - loss: 0.0076 - accuracy: 0.9972\n",
      "Epoch 33/100\n",
      "1875/1875 [==============================] - 4s 2ms/step - loss: 0.0058 - accuracy: 0.9980\n",
      "Epoch 34/100\n",
      "1875/1875 [==============================] - 4s 2ms/step - loss: 0.0063 - accuracy: 0.9980\n",
      "Epoch 35/100\n",
      "1875/1875 [==============================] - 4s 2ms/step - loss: 0.0068 - accuracy: 0.9977\n",
      "Epoch 36/100\n",
      "1875/1875 [==============================] - 4s 2ms/step - loss: 0.0071 - accuracy: 0.9977\n",
      "Epoch 37/100\n",
      "1875/1875 [==============================] - 4s 2ms/step - loss: 0.0063 - accuracy: 0.9978\n",
      "Epoch 38/100\n",
      "1875/1875 [==============================] - 4s 2ms/step - loss: 0.0057 - accuracy: 0.9980\n",
      "Epoch 39/100\n",
      "1875/1875 [==============================] - 4s 2ms/step - loss: 0.0063 - accuracy: 0.9978\n",
      "Epoch 40/100\n",
      "1875/1875 [==============================] - 4s 2ms/step - loss: 0.0060 - accuracy: 0.9980\n",
      "Epoch 41/100\n",
      "1875/1875 [==============================] - 4s 2ms/step - loss: 0.0062 - accuracy: 0.9981\n",
      "Epoch 42/100\n",
      "1875/1875 [==============================] - 4s 2ms/step - loss: 0.0046 - accuracy: 0.9984\n",
      "Epoch 43/100\n",
      "1875/1875 [==============================] - 4s 2ms/step - loss: 0.0069 - accuracy: 0.9977\n",
      "Epoch 44/100\n",
      "1875/1875 [==============================] - 4s 2ms/step - loss: 0.0039 - accuracy: 0.9987\n",
      "Epoch 45/100\n",
      "1875/1875 [==============================] - 4s 2ms/step - loss: 0.0068 - accuracy: 0.9977\n",
      "Epoch 46/100\n",
      "1875/1875 [==============================] - 4s 2ms/step - loss: 0.0034 - accuracy: 0.9990\n",
      "Epoch 47/100\n",
      "1875/1875 [==============================] - 4s 2ms/step - loss: 0.0052 - accuracy: 0.9984\n",
      "Epoch 48/100\n",
      "1875/1875 [==============================] - 4s 2ms/step - loss: 0.0057 - accuracy: 0.9980\n",
      "Epoch 49/100\n",
      "1875/1875 [==============================] - 4s 2ms/step - loss: 0.0043 - accuracy: 0.9984\n",
      "Epoch 50/100\n",
      "1875/1875 [==============================] - 4s 2ms/step - loss: 0.0047 - accuracy: 0.9985\n",
      "Epoch 51/100\n",
      "1875/1875 [==============================] - 4s 2ms/step - loss: 0.0053 - accuracy: 0.9982\n",
      "Epoch 52/100\n",
      "1875/1875 [==============================] - 4s 2ms/step - loss: 0.0026 - accuracy: 0.9993\n",
      "Epoch 53/100\n",
      "1875/1875 [==============================] - 4s 2ms/step - loss: 0.0056 - accuracy: 0.9982\n",
      "Epoch 54/100\n",
      "1875/1875 [==============================] - 4s 2ms/step - loss: 0.0030 - accuracy: 0.9991\n",
      "Epoch 55/100\n",
      "1875/1875 [==============================] - 4s 2ms/step - loss: 0.0048 - accuracy: 0.9982\n",
      "Epoch 56/100\n",
      "1875/1875 [==============================] - 4s 2ms/step - loss: 0.0049 - accuracy: 0.9984\n",
      "Epoch 57/100\n",
      "1875/1875 [==============================] - 4s 2ms/step - loss: 0.0045 - accuracy: 0.9985\n",
      "Epoch 58/100\n",
      "1875/1875 [==============================] - 4s 2ms/step - loss: 0.0046 - accuracy: 0.9983\n",
      "Epoch 59/100\n",
      "1875/1875 [==============================] - 4s 2ms/step - loss: 0.0025 - accuracy: 0.9991\n",
      "Epoch 60/100\n",
      "1875/1875 [==============================] - 4s 2ms/step - loss: 0.0062 - accuracy: 0.9977\n",
      "Epoch 61/100\n",
      "1875/1875 [==============================] - 4s 2ms/step - loss: 0.0022 - accuracy: 0.9992\n",
      "Epoch 62/100\n",
      "1875/1875 [==============================] - 4s 2ms/step - loss: 0.0050 - accuracy: 0.9984\n",
      "Epoch 63/100\n",
      "1875/1875 [==============================] - 4s 2ms/step - loss: 0.0033 - accuracy: 0.9988\n",
      "Epoch 64/100\n",
      "1875/1875 [==============================] - 4s 2ms/step - loss: 0.0046 - accuracy: 0.9984\n",
      "Epoch 65/100\n",
      "1875/1875 [==============================] - 4s 2ms/step - loss: 0.0053 - accuracy: 0.9983\n",
      "Epoch 66/100\n",
      "1875/1875 [==============================] - 4s 2ms/step - loss: 0.0025 - accuracy: 0.9991\n",
      "Epoch 67/100\n",
      "1875/1875 [==============================] - 4s 2ms/step - loss: 0.0037 - accuracy: 0.9988\n",
      "Epoch 68/100\n",
      "1875/1875 [==============================] - 4s 2ms/step - loss: 0.0033 - accuracy: 0.9989\n",
      "Epoch 69/100\n",
      "1875/1875 [==============================] - 4s 2ms/step - loss: 0.0026 - accuracy: 0.9990\n",
      "Epoch 70/100\n",
      "1875/1875 [==============================] - 4s 2ms/step - loss: 0.0038 - accuracy: 0.9987\n",
      "Epoch 71/100\n",
      "1875/1875 [==============================] - 4s 2ms/step - loss: 0.0035 - accuracy: 0.9989\n",
      "Epoch 72/100\n",
      "1875/1875 [==============================] - 4s 2ms/step - loss: 0.0031 - accuracy: 0.9989\n",
      "Epoch 73/100\n",
      "1875/1875 [==============================] - 4s 2ms/step - loss: 0.0041 - accuracy: 0.9987\n",
      "Epoch 74/100\n",
      "1875/1875 [==============================] - 4s 2ms/step - loss: 0.0039 - accuracy: 0.9989\n",
      "Epoch 75/100\n",
      "1875/1875 [==============================] - 4s 2ms/step - loss: 0.0030 - accuracy: 0.9990\n",
      "Epoch 76/100\n",
      "1875/1875 [==============================] - 4s 2ms/step - loss: 0.0041 - accuracy: 0.9987\n",
      "Epoch 77/100\n",
      "1875/1875 [==============================] - 4s 2ms/step - loss: 0.0022 - accuracy: 0.9995\n",
      "Epoch 78/100\n",
      "1875/1875 [==============================] - 4s 2ms/step - loss: 0.0038 - accuracy: 0.9985\n",
      "Epoch 79/100\n",
      "1875/1875 [==============================] - 4s 2ms/step - loss: 0.0031 - accuracy: 0.9991\n",
      "Epoch 80/100\n",
      "1875/1875 [==============================] - 4s 2ms/step - loss: 0.0026 - accuracy: 0.9992\n",
      "Epoch 81/100\n",
      "1875/1875 [==============================] - 4s 2ms/step - loss: 0.0036 - accuracy: 0.9987\n",
      "Epoch 82/100\n",
      "1875/1875 [==============================] - 4s 2ms/step - loss: 0.0037 - accuracy: 0.9988\n",
      "Epoch 83/100\n",
      "1875/1875 [==============================] - 4s 2ms/step - loss: 0.0035 - accuracy: 0.9990\n",
      "Epoch 84/100\n",
      "1875/1875 [==============================] - 4s 2ms/step - loss: 0.0029 - accuracy: 0.9991\n",
      "Epoch 85/100\n",
      "1875/1875 [==============================] - 4s 2ms/step - loss: 0.0034 - accuracy: 0.9989\n",
      "Epoch 86/100\n",
      "1875/1875 [==============================] - 4s 2ms/step - loss: 0.0021 - accuracy: 0.9992\n",
      "Epoch 87/100\n",
      "1875/1875 [==============================] - 4s 2ms/step - loss: 0.0040 - accuracy: 0.9988\n",
      "Epoch 88/100\n",
      "1875/1875 [==============================] - 4s 2ms/step - loss: 0.0031 - accuracy: 0.9991\n",
      "Epoch 89/100\n",
      "1875/1875 [==============================] - 4s 2ms/step - loss: 0.0010 - accuracy: 0.9997\n",
      "Epoch 90/100\n",
      "1875/1875 [==============================] - 4s 2ms/step - loss: 0.0035 - accuracy: 0.9988\n",
      "Epoch 91/100\n",
      "1875/1875 [==============================] - 4s 2ms/step - loss: 0.0027 - accuracy: 0.9990\n",
      "Epoch 92/100\n",
      "1875/1875 [==============================] - 4s 2ms/step - loss: 0.0037 - accuracy: 0.9988\n",
      "Epoch 93/100\n",
      "1875/1875 [==============================] - 4s 2ms/step - loss: 0.0019 - accuracy: 0.9992\n",
      "Epoch 94/100\n",
      "1875/1875 [==============================] - 4s 2ms/step - loss: 0.0025 - accuracy: 0.9993\n",
      "Epoch 95/100\n",
      "1875/1875 [==============================] - 4s 2ms/step - loss: 0.0034 - accuracy: 0.9990\n",
      "Epoch 96/100\n",
      "1875/1875 [==============================] - 4s 2ms/step - loss: 0.0033 - accuracy: 0.9987\n",
      "Epoch 97/100\n",
      "1875/1875 [==============================] - 4s 2ms/step - loss: 0.0036 - accuracy: 0.9988\n",
      "Epoch 98/100\n",
      "1875/1875 [==============================] - 4s 2ms/step - loss: 0.0017 - accuracy: 0.9995\n",
      "Epoch 99/100\n",
      "1875/1875 [==============================] - 4s 2ms/step - loss: 0.0033 - accuracy: 0.9988\n",
      "Epoch 100/100\n",
      "1875/1875 [==============================] - 4s 2ms/step - loss: 0.0011 - accuracy: 0.9996\n"
     ]
    }
   ],
   "source": [
    "modelPelu.compile(optimizer='adam', \n",
    "              loss='sparse_categorical_crossentropy', \n",
    "              metrics=['accuracy'])\n",
    "historyPelu = modelPelu.fit(x=x_train,y=y_train, epochs=100)"
   ]
  },
  {
   "cell_type": "code",
   "execution_count": null,
   "metadata": {
    "colab": {
     "base_uri": "https://localhost:8080/"
    },
    "id": "hWzssHXzDWZN",
    "outputId": "b4fca964-2fcf-47ae-c76e-c5af59b2b0b0"
   },
   "outputs": [
    {
     "name": "stdout",
     "output_type": "stream",
     "text": [
      "313/313 [==============================] - 1s 2ms/step - loss: 0.3663 - accuracy: 0.9691\n"
     ]
    }
   ],
   "source": [
    "# Results of evaluating by the model with PELU layer\n",
    "evalPelu = modelPelu.evaluate(x_test,y_test)"
   ]
  },
  {
   "cell_type": "markdown",
   "metadata": {
    "id": "W2s6Q4ImE9uc"
   },
   "source": [
    "Now with the RELU activation function"
   ]
  },
  {
   "cell_type": "code",
   "execution_count": null,
   "metadata": {
    "id": "e58CZEtRDWW6"
   },
   "outputs": [],
   "source": [
    "# Now Model with Relu activation function instead of our PELU\n",
    "\n",
    "modelRelu = tf.keras.Sequential(layers=[\n",
    "      tf.keras.layers.Flatten(),\n",
    "      tf.keras.layers.Dense(50,  name='1st_layer'),\n",
    "      tf.keras.layers.Dense(50,  name='RELU', activation='relu'),\n",
    "      tf.keras.layers.Dense(10,  name='output_layer', activation='softmax')\n",
    "])"
   ]
  },
  {
   "cell_type": "code",
   "execution_count": null,
   "metadata": {
    "colab": {
     "base_uri": "https://localhost:8080/"
    },
    "id": "fPVE8U2KDWUb",
    "outputId": "686d079a-a460-4820-a9d7-116e9a485208"
   },
   "outputs": [
    {
     "name": "stdout",
     "output_type": "stream",
     "text": [
      "Epoch 1/100\n",
      "1875/1875 [==============================] - 3s 2ms/step - loss: 0.3600 - accuracy: 0.8963\n",
      "Epoch 2/100\n",
      "1875/1875 [==============================] - 3s 2ms/step - loss: 0.1889 - accuracy: 0.9439\n",
      "Epoch 3/100\n",
      "1875/1875 [==============================] - 3s 2ms/step - loss: 0.1442 - accuracy: 0.9562\n",
      "Epoch 4/100\n",
      "1875/1875 [==============================] - 3s 2ms/step - loss: 0.1195 - accuracy: 0.9632\n",
      "Epoch 5/100\n",
      "1875/1875 [==============================] - 3s 2ms/step - loss: 0.1030 - accuracy: 0.9679\n",
      "Epoch 6/100\n",
      "1875/1875 [==============================] - 3s 2ms/step - loss: 0.0896 - accuracy: 0.9716\n",
      "Epoch 7/100\n",
      "1875/1875 [==============================] - 3s 2ms/step - loss: 0.0809 - accuracy: 0.9742\n",
      "Epoch 8/100\n",
      "1875/1875 [==============================] - 3s 2ms/step - loss: 0.0721 - accuracy: 0.9773\n",
      "Epoch 9/100\n",
      "1875/1875 [==============================] - 3s 2ms/step - loss: 0.0663 - accuracy: 0.9790\n",
      "Epoch 10/100\n",
      "1875/1875 [==============================] - 3s 2ms/step - loss: 0.0591 - accuracy: 0.9813\n",
      "Epoch 11/100\n",
      "1875/1875 [==============================] - 3s 2ms/step - loss: 0.0547 - accuracy: 0.9824\n",
      "Epoch 12/100\n",
      "1875/1875 [==============================] - 3s 2ms/step - loss: 0.0505 - accuracy: 0.9836\n",
      "Epoch 13/100\n",
      "1875/1875 [==============================] - 3s 2ms/step - loss: 0.0459 - accuracy: 0.9854\n",
      "Epoch 14/100\n",
      "1875/1875 [==============================] - 3s 2ms/step - loss: 0.0431 - accuracy: 0.9860\n",
      "Epoch 15/100\n",
      "1875/1875 [==============================] - 3s 2ms/step - loss: 0.0397 - accuracy: 0.9865\n",
      "Epoch 16/100\n",
      "1875/1875 [==============================] - 3s 2ms/step - loss: 0.0361 - accuracy: 0.9881\n",
      "Epoch 17/100\n",
      "1875/1875 [==============================] - 3s 2ms/step - loss: 0.0327 - accuracy: 0.9891\n",
      "Epoch 18/100\n",
      "1875/1875 [==============================] - 3s 2ms/step - loss: 0.0325 - accuracy: 0.9892\n",
      "Epoch 19/100\n",
      "1875/1875 [==============================] - 3s 2ms/step - loss: 0.0285 - accuracy: 0.9902\n",
      "Epoch 20/100\n",
      "1875/1875 [==============================] - 3s 2ms/step - loss: 0.0271 - accuracy: 0.9907\n",
      "Epoch 21/100\n",
      "1875/1875 [==============================] - 3s 2ms/step - loss: 0.0260 - accuracy: 0.9911\n",
      "Epoch 22/100\n",
      "1875/1875 [==============================] - 3s 2ms/step - loss: 0.0254 - accuracy: 0.9910\n",
      "Epoch 23/100\n",
      "1875/1875 [==============================] - 3s 2ms/step - loss: 0.0222 - accuracy: 0.9922\n",
      "Epoch 24/100\n",
      "1875/1875 [==============================] - 3s 2ms/step - loss: 0.0216 - accuracy: 0.9923\n",
      "Epoch 25/100\n",
      "1875/1875 [==============================] - 3s 2ms/step - loss: 0.0219 - accuracy: 0.9921\n",
      "Epoch 26/100\n",
      "1875/1875 [==============================] - 3s 2ms/step - loss: 0.0176 - accuracy: 0.9939\n",
      "Epoch 27/100\n",
      "1875/1875 [==============================] - 3s 2ms/step - loss: 0.0194 - accuracy: 0.9933\n",
      "Epoch 28/100\n",
      "1875/1875 [==============================] - 3s 2ms/step - loss: 0.0185 - accuracy: 0.9934\n",
      "Epoch 29/100\n",
      "1875/1875 [==============================] - 3s 2ms/step - loss: 0.0167 - accuracy: 0.9943\n",
      "Epoch 30/100\n",
      "1875/1875 [==============================] - 3s 2ms/step - loss: 0.0146 - accuracy: 0.9948\n",
      "Epoch 31/100\n",
      "1875/1875 [==============================] - 3s 2ms/step - loss: 0.0167 - accuracy: 0.9942\n",
      "Epoch 32/100\n",
      "1875/1875 [==============================] - 3s 2ms/step - loss: 0.0154 - accuracy: 0.9946\n",
      "Epoch 33/100\n",
      "1875/1875 [==============================] - 3s 2ms/step - loss: 0.0129 - accuracy: 0.9954\n",
      "Epoch 34/100\n",
      "1875/1875 [==============================] - 3s 2ms/step - loss: 0.0136 - accuracy: 0.9950\n",
      "Epoch 35/100\n",
      "1875/1875 [==============================] - 3s 2ms/step - loss: 0.0153 - accuracy: 0.9947\n",
      "Epoch 36/100\n",
      "1875/1875 [==============================] - 3s 2ms/step - loss: 0.0130 - accuracy: 0.9956\n",
      "Epoch 37/100\n",
      "1875/1875 [==============================] - 3s 2ms/step - loss: 0.0134 - accuracy: 0.9952\n",
      "Epoch 38/100\n",
      "1875/1875 [==============================] - 3s 2ms/step - loss: 0.0107 - accuracy: 0.9962\n",
      "Epoch 39/100\n",
      "1875/1875 [==============================] - 3s 2ms/step - loss: 0.0128 - accuracy: 0.9956\n",
      "Epoch 40/100\n",
      "1875/1875 [==============================] - 3s 2ms/step - loss: 0.0117 - accuracy: 0.9957\n",
      "Epoch 41/100\n",
      "1875/1875 [==============================] - 3s 2ms/step - loss: 0.0114 - accuracy: 0.9963\n",
      "Epoch 42/100\n",
      "1875/1875 [==============================] - 3s 2ms/step - loss: 0.0111 - accuracy: 0.9961\n",
      "Epoch 43/100\n",
      "1875/1875 [==============================] - 3s 2ms/step - loss: 0.0108 - accuracy: 0.9962\n",
      "Epoch 44/100\n",
      "1875/1875 [==============================] - 3s 2ms/step - loss: 0.0111 - accuracy: 0.9961\n",
      "Epoch 45/100\n",
      "1875/1875 [==============================] - 3s 2ms/step - loss: 0.0103 - accuracy: 0.9962\n",
      "Epoch 46/100\n",
      "1875/1875 [==============================] - 3s 2ms/step - loss: 0.0099 - accuracy: 0.9965\n",
      "Epoch 47/100\n",
      "1875/1875 [==============================] - 3s 2ms/step - loss: 0.0101 - accuracy: 0.9963\n",
      "Epoch 48/100\n",
      "1875/1875 [==============================] - 3s 2ms/step - loss: 0.0108 - accuracy: 0.9960\n",
      "Epoch 49/100\n",
      "1875/1875 [==============================] - 3s 2ms/step - loss: 0.0084 - accuracy: 0.9974\n",
      "Epoch 50/100\n",
      "1875/1875 [==============================] - 3s 2ms/step - loss: 0.0104 - accuracy: 0.9965\n",
      "Epoch 51/100\n",
      "1875/1875 [==============================] - 3s 2ms/step - loss: 0.0110 - accuracy: 0.9960\n",
      "Epoch 52/100\n",
      "1875/1875 [==============================] - 3s 2ms/step - loss: 0.0096 - accuracy: 0.9966\n",
      "Epoch 53/100\n",
      "1875/1875 [==============================] - 3s 2ms/step - loss: 0.0091 - accuracy: 0.9967\n",
      "Epoch 54/100\n",
      "1875/1875 [==============================] - 4s 2ms/step - loss: 0.0100 - accuracy: 0.9965\n",
      "Epoch 55/100\n",
      "1875/1875 [==============================] - 4s 2ms/step - loss: 0.0083 - accuracy: 0.9969\n",
      "Epoch 56/100\n",
      "1875/1875 [==============================] - 4s 2ms/step - loss: 0.0091 - accuracy: 0.9967\n",
      "Epoch 57/100\n",
      "1875/1875 [==============================] - 3s 2ms/step - loss: 0.0093 - accuracy: 0.9969\n",
      "Epoch 58/100\n",
      "1875/1875 [==============================] - 3s 2ms/step - loss: 0.0099 - accuracy: 0.9968\n",
      "Epoch 59/100\n",
      "1875/1875 [==============================] - 3s 2ms/step - loss: 0.0097 - accuracy: 0.9967\n",
      "Epoch 60/100\n",
      "1875/1875 [==============================] - 3s 2ms/step - loss: 0.0076 - accuracy: 0.9971\n",
      "Epoch 61/100\n",
      "1875/1875 [==============================] - 3s 2ms/step - loss: 0.0091 - accuracy: 0.9971\n",
      "Epoch 62/100\n",
      "1875/1875 [==============================] - 3s 2ms/step - loss: 0.0103 - accuracy: 0.9966\n",
      "Epoch 63/100\n",
      "1875/1875 [==============================] - 3s 2ms/step - loss: 0.0074 - accuracy: 0.9974\n",
      "Epoch 64/100\n",
      "1875/1875 [==============================] - 3s 2ms/step - loss: 0.0084 - accuracy: 0.9969\n",
      "Epoch 65/100\n",
      "1875/1875 [==============================] - 3s 2ms/step - loss: 0.0082 - accuracy: 0.9973\n",
      "Epoch 66/100\n",
      "1875/1875 [==============================] - 3s 2ms/step - loss: 0.0080 - accuracy: 0.9972\n",
      "Epoch 67/100\n",
      "1875/1875 [==============================] - 3s 2ms/step - loss: 0.0100 - accuracy: 0.9967\n",
      "Epoch 68/100\n",
      "1875/1875 [==============================] - 3s 2ms/step - loss: 0.0093 - accuracy: 0.9969\n",
      "Epoch 69/100\n",
      "1875/1875 [==============================] - 3s 2ms/step - loss: 0.0074 - accuracy: 0.9976\n",
      "Epoch 70/100\n",
      "1875/1875 [==============================] - 3s 2ms/step - loss: 0.0087 - accuracy: 0.9970\n",
      "Epoch 71/100\n",
      "1875/1875 [==============================] - 3s 2ms/step - loss: 0.0061 - accuracy: 0.9978\n",
      "Epoch 72/100\n",
      "1875/1875 [==============================] - 4s 2ms/step - loss: 0.0085 - accuracy: 0.9969\n",
      "Epoch 73/100\n",
      "1875/1875 [==============================] - 3s 2ms/step - loss: 0.0075 - accuracy: 0.9974\n",
      "Epoch 74/100\n",
      "1875/1875 [==============================] - 3s 2ms/step - loss: 0.0085 - accuracy: 0.9972\n",
      "Epoch 75/100\n",
      "1875/1875 [==============================] - 3s 2ms/step - loss: 0.0068 - accuracy: 0.9979\n",
      "Epoch 76/100\n",
      "1875/1875 [==============================] - 3s 2ms/step - loss: 0.0085 - accuracy: 0.9973\n",
      "Epoch 77/100\n",
      "1875/1875 [==============================] - 3s 2ms/step - loss: 0.0080 - accuracy: 0.9976\n",
      "Epoch 78/100\n",
      "1875/1875 [==============================] - 3s 2ms/step - loss: 0.0098 - accuracy: 0.9971\n",
      "Epoch 79/100\n",
      "1875/1875 [==============================] - 3s 2ms/step - loss: 0.0078 - accuracy: 0.9975\n",
      "Epoch 80/100\n",
      "1875/1875 [==============================] - 3s 2ms/step - loss: 0.0082 - accuracy: 0.9974\n",
      "Epoch 81/100\n",
      "1875/1875 [==============================] - 3s 2ms/step - loss: 0.0071 - accuracy: 0.9976\n",
      "Epoch 82/100\n",
      "1875/1875 [==============================] - 3s 2ms/step - loss: 0.0085 - accuracy: 0.9974\n",
      "Epoch 83/100\n",
      "1875/1875 [==============================] - 3s 2ms/step - loss: 0.0077 - accuracy: 0.9975\n",
      "Epoch 84/100\n",
      "1875/1875 [==============================] - 3s 2ms/step - loss: 0.0066 - accuracy: 0.9979\n",
      "Epoch 85/100\n",
      "1875/1875 [==============================] - 3s 2ms/step - loss: 0.0087 - accuracy: 0.9974\n",
      "Epoch 86/100\n",
      "1875/1875 [==============================] - 3s 2ms/step - loss: 0.0096 - accuracy: 0.9973\n",
      "Epoch 87/100\n",
      "1875/1875 [==============================] - 3s 2ms/step - loss: 0.0073 - accuracy: 0.9976\n",
      "Epoch 88/100\n",
      "1875/1875 [==============================] - 3s 2ms/step - loss: 0.0065 - accuracy: 0.9979\n",
      "Epoch 89/100\n",
      "1875/1875 [==============================] - 3s 2ms/step - loss: 0.0078 - accuracy: 0.9976\n",
      "Epoch 90/100\n",
      "1875/1875 [==============================] - 3s 2ms/step - loss: 0.0073 - accuracy: 0.9979\n",
      "Epoch 91/100\n",
      "1875/1875 [==============================] - 3s 2ms/step - loss: 0.0075 - accuracy: 0.9976\n",
      "Epoch 92/100\n",
      "1875/1875 [==============================] - 3s 2ms/step - loss: 0.0083 - accuracy: 0.9975\n",
      "Epoch 93/100\n",
      "1875/1875 [==============================] - 3s 2ms/step - loss: 0.0070 - accuracy: 0.9976\n",
      "Epoch 94/100\n",
      "1875/1875 [==============================] - 3s 2ms/step - loss: 0.0075 - accuracy: 0.9976\n",
      "Epoch 95/100\n",
      "1875/1875 [==============================] - 3s 2ms/step - loss: 0.0081 - accuracy: 0.9975\n",
      "Epoch 96/100\n",
      "1875/1875 [==============================] - 3s 2ms/step - loss: 0.0085 - accuracy: 0.9974\n",
      "Epoch 97/100\n",
      "1875/1875 [==============================] - 3s 2ms/step - loss: 0.0074 - accuracy: 0.9977\n",
      "Epoch 98/100\n",
      "1875/1875 [==============================] - 3s 2ms/step - loss: 0.0072 - accuracy: 0.9977\n",
      "Epoch 99/100\n",
      "1875/1875 [==============================] - 3s 2ms/step - loss: 0.0082 - accuracy: 0.9974\n",
      "Epoch 100/100\n",
      "1875/1875 [==============================] - 3s 2ms/step - loss: 0.0059 - accuracy: 0.9981\n"
     ]
    }
   ],
   "source": [
    "modelRelu.compile(optimizer='adam', \n",
    "              loss='sparse_categorical_crossentropy', \n",
    "              metrics=['accuracy'])\n",
    "historyRelu = modelRelu.fit(x=x_train,y=y_train, epochs=100)"
   ]
  },
  {
   "cell_type": "code",
   "execution_count": null,
   "metadata": {
    "colab": {
     "base_uri": "https://localhost:8080/"
    },
    "id": "iM5Yg7HPDel6",
    "outputId": "9ccc193e-6be4-45b1-919c-1209ac326798"
   },
   "outputs": [
    {
     "name": "stdout",
     "output_type": "stream",
     "text": [
      "313/313 [==============================] - 0s 2ms/step - loss: 0.3835 - accuracy: 0.9635\n"
     ]
    }
   ],
   "source": [
    "# Results of evaluating by the model with Relu activation function\n",
    "evalRelu = modelRelu.evaluate(x_test,y_test)"
   ]
  },
  {
   "cell_type": "code",
   "execution_count": null,
   "metadata": {
    "colab": {
     "base_uri": "https://localhost:8080/"
    },
    "id": "RNjjBpEPDejj",
    "outputId": "e5ab4e5a-d052-43cf-c908-c60cf5789375"
   },
   "outputs": [
    {
     "name": "stdout",
     "output_type": "stream",
     "text": [
      "Accuracy with PELU :  0.9690999984741211 ,  Loss with PELU:  0.3662984073162079\n",
      "Accuracy with Relu :  0.9635000228881836 ,  Loss with PELU:  0.38348546624183655\n"
     ]
    }
   ],
   "source": [
    "print(\"Accuracy with PELU : \", evalPelu[1], \",  Loss with PELU: \", evalPelu[0])\n",
    "print(\"Accuracy with Relu : \", evalRelu[1], \",  Loss with PELU: \", evalRelu[0])"
   ]
  },
  {
   "cell_type": "markdown",
   "metadata": {
    "id": "ADKHEISoDnfC"
   },
   "source": [
    "As you can see the accuracy by PELU is slightly better than with ReLU activation Function\n",
    "\n",
    "Here I will plot the model's architecture and their accuracy results"
   ]
  },
  {
   "cell_type": "code",
   "execution_count": null,
   "metadata": {
    "colab": {
     "base_uri": "https://localhost:8080/",
     "height": 465
    },
    "id": "HYocBsVjDeg1",
    "outputId": "f4fa067b-8223-4ecc-c5a8-662ea0cc1393"
   },
   "outputs": [
    {
     "data": {
      "image/png": "[encoded data removed]",
      "text/plain": [
       "<IPython.core.display.Image object>"
      ]
     },
     "execution_count": 21,
     "metadata": {
      "tags": []
     },
     "output_type": "execute_result"
    }
   ],
   "source": [
    "# Models' architectures\n",
    "\n",
    "from keras.utils import plot_model\n",
    "plot_model(modelPelu, to_file='model.png')"
   ]
  },
  {
   "cell_type": "code",
   "execution_count": null,
   "metadata": {
    "colab": {
     "base_uri": "https://localhost:8080/",
     "height": 465
    },
    "id": "vWvXzkR5Dodd",
    "outputId": "9f78a088-de4d-4697-ceb9-359b5555f4d0"
   },
   "outputs": [
    {
     "data": {
      "image/png": "[encoded data removed]",
      "text/plain": [
       "<IPython.core.display.Image object>"
      ]
     },
     "execution_count": 22,
     "metadata": {
      "tags": []
     },
     "output_type": "execute_result"
    }
   ],
   "source": [
    "plot_model(modelRelu, to_file='model1.png')"
   ]
  },
  {
   "cell_type": "markdown",
   "metadata": {
    "id": "hxrTvYSmDxjD"
   },
   "source": [
    "The Accuracy difference of PELU and ReLU"
   ]
  },
  {
   "cell_type": "code",
   "execution_count": null,
   "metadata": {
    "colab": {
     "base_uri": "https://localhost:8080/",
     "height": 457
    },
    "id": "Q51pi3gVDwsj",
    "outputId": "a6355632-313e-4869-f17f-bafe9afabcc2"
   },
   "outputs": [
    {
     "data": {
      "image/png": "[encoded data removed]",
      "text/plain": [
       "<Figure size 720x504 with 1 Axes>"
      ]
     },
     "metadata": {
      "needs_background": "light",
      "tags": []
     },
     "output_type": "display_data"
    }
   ],
   "source": [
    "plt.figure(figsize=(10,7))\n",
    "loss_train = historyPelu.history[\"accuracy\"]\n",
    "loss_trainR = historyRelu.history[\"accuracy\"]\n",
    "epochs = range(1,101)\n",
    "plt.plot(epochs, loss_train, 'r', label='Accuracy_of_PELU', linewidth=3)\n",
    "plt.plot(epochs, loss_trainR, 'b', label='Accuracy_of_ReLU', linewidth=3)\n",
    "plt.title('PELU (red) and ReLU (blue) accuracy')\n",
    "plt.xlabel('Epochs')\n",
    "plt.ylabel('Accuracy')\n",
    "plt.legend()\n",
    "plt.show()"
   ]
  },
  {
   "cell_type": "markdown",
   "metadata": {
    "id": "nkb3cj9r7uUH"
   },
   "source": [
    "### Understanding saving/loading of models"
   ]
  },
  {
   "cell_type": "markdown",
   "metadata": {
    "id": "pEjaJQT06jh9"
   },
   "source": [
    "TensorFlow has several options for saving or loading objects from the disk:\n",
    "\n",
    "1. [Save and load Keras models](https://www.tensorflow.org/guide/keras/save_and_serialize/)\n",
    "\n",
    "In many cases, custom classes require the implementation of a `get_config` / `from_config` functions to define the serialization behaviour.\n"
   ]
  },
  {
   "cell_type": "code",
   "execution_count": null,
   "metadata": {
    "colab": {
     "base_uri": "https://localhost:8080/"
    },
    "id": "voxx7kntvM0W",
    "outputId": "1c52d971-09d5-4a4d-d971-bf59bdeb660f"
   },
   "outputs": [
    {
     "name": "stdout",
     "output_type": "stream",
     "text": [
      "WARNING:tensorflow:From /usr/local/lib/python3.6/dist-packages/tensorflow/python/training/tracking/tracking.py:111: Model.state_updates (from tensorflow.python.keras.engine.training) is deprecated and will be removed in a future version.\n",
      "Instructions for updating:\n",
      "This property should not be used in TensorFlow 2.0, as updates are applied automatically.\n",
      "WARNING:tensorflow:From /usr/local/lib/python3.6/dist-packages/tensorflow/python/training/tracking/tracking.py:111: Layer.updates (from tensorflow.python.keras.engine.base_layer) is deprecated and will be removed in a future version.\n",
      "Instructions for updating:\n",
      "This property should not be used in TensorFlow 2.0, as updates are applied automatically.\n",
      "INFO:tensorflow:Assets written to: pelu_model/assets\n"
     ]
    }
   ],
   "source": [
    "modelPelu.save('pelu_model')\n",
    "del PELU # This is needed to remove any reference to PELU from memory\n",
    "reloaded_model = tf.keras.models.load_model('pelu_model')"
   ]
  },
  {
   "cell_type": "code",
   "execution_count": null,
   "metadata": {
    "colab": {
     "base_uri": "https://localhost:8080/"
    },
    "id": "838PN8xN0rIW",
    "outputId": "916a9bc8-2fff-4365-d48a-e1554e42a70f"
   },
   "outputs": [
    {
     "name": "stdout",
     "output_type": "stream",
     "text": [
      "Original model: <tensorflow.python.keras.engine.sequential.Sequential object at 0x7f9f60396390>\n",
      "Loaded model: <tensorflow.python.keras.engine.sequential.Sequential object at 0x7f9efc1eae80>\n"
     ]
    }
   ],
   "source": [
    "print(\"Original model:\", modelPelu)\n",
    "print(\"Loaded model:\", reloaded_model) # Observe that the object has been dynamically recreated in absence of the configuration options"
   ]
  },
  {
   "cell_type": "markdown",
   "metadata": {
    "id": "Rl9dZ3HambSz"
   },
   "source": [
    "### References\n",
    "\n",
    "[1] Clevert, D.A., Unterthiner, T. and Hochreiter, S., 2015. [Fast and accurate deep network learning by exponential linear units (ELUs)](https://arxiv.org/abs/1511.07289). arXiv preprint arXiv:1511.07289.\n",
    "\n",
    "[2] Trottier, L., Gigu, P. and Chaib-draa, B., 2017. [Parametric exponential linear unit for deep convolutional neural networks](https://arxiv.org/abs/1605.09332). In 2017 16th IEEE International Conference on Machine Learning and Applications (ICMLA) (pp. 207-214). IEEE."
   ]
  }
 ],
 "metadata": {
  "accelerator": "GPU",
  "colab": {
   "collapsed_sections": [
    "wAEgygyPfO7b",
    "Rl9dZ3HambSz"
   ],
   "name": "[NNDS] Homework_1_1917906.ipynb",
   "provenance": []
  },
  "kernelspec": {
   "display_name": "Python 3",
   "language": "python",
   "name": "python3"
  },
  "language_info": {
   "codemirror_mode": {
    "name": "ipython",
    "version": 3
   },
   "file_extension": ".py",
   "mimetype": "text/x-python",
   "name": "python",
   "nbconvert_exporter": "python",
   "pygments_lexer": "ipython3",
   "version": "3.8.5"
  }
 },
 "nbformat": 4,
 "nbformat_minor": 1
}
